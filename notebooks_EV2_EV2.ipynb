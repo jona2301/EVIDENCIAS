{
  "metadata": {
    "language_info": {
      "codemirror_mode": {
        "name": "python",
        "version": 3
      },
      "file_extension": ".py",
      "mimetype": "text/x-python",
      "name": "python",
      "nbconvert_exporter": "python",
      "pygments_lexer": "ipython3",
      "version": "3.8"
    },
    "kernelspec": {
      "name": "python",
      "display_name": "Python (Pyodide)",
      "language": "python"
    }
  },
  "nbformat_minor": 4,
  "nbformat": 4,
  "cells": [
    {
      "cell_type": "code",
      "source": "#La clase Estudiante en este ejemplo representa a un estudiante con tres atributos: nombre, edad y calificaciones\nclass Estudiante:\n    def __init__(self, nombre, edad, calificaciones):\n        self.nombre = nombre\n        self.edad = edad\n        self.calificaciones = calificaciones\n    \n    @property\n    def info(self):\n        return f\"Nombre: {self.nombre}, Edad: {self.edad}, Calificaciones: {self.calificaciones}\"\n    \n    def mostrar_informacion(self):\n        print(self.info)\n    \n    def calcular_promedio(self):\n        if len(self.calificaciones) > 0:\n            promedio = sum(self.calificaciones) / len(self.calificaciones)\n            return f\"El promedio de calificaciones es: {promedio:.2f}\"\n        else:\n            return \"No hay calificaciones disponibles.\"\n\n# Crear una instancia de la clase Estudiante\nestudiante1 = Estudiante(nombre=\"Ana\", edad=20, calificaciones=[90, 85, 88, 92, 95])\n\n# Llamar al método mostrar_informacion\nestudiante1.mostrar_informacion()\n\n# Calcular y mostrar el promedio de calificaciones\nprint(estudiante1.calcular_promedio())\n",
      "metadata": {
        "trusted": true
      },
      "execution_count": 2,
      "outputs": [
        {
          "name": "stdout",
          "text": "Nombre: Ana, Edad: 20, Calificaciones: [90, 85, 88, 92, 95]\nEl promedio de calificaciones es: 90.00\n",
          "output_type": "stream"
        }
      ]
    },
    {
      "cell_type": "code",
      "source": "",
      "metadata": {},
      "execution_count": null,
      "outputs": []
    }
  ]
}