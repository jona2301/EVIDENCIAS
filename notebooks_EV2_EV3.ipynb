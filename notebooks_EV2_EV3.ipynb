{
  "metadata": {
    "language_info": {
      "codemirror_mode": {
        "name": "python",
        "version": 3
      },
      "file_extension": ".py",
      "mimetype": "text/x-python",
      "name": "python",
      "nbconvert_exporter": "python",
      "pygments_lexer": "ipython3",
      "version": "3.8"
    },
    "kernelspec": {
      "name": "python",
      "display_name": "Python (Pyodide)",
      "language": "python"
    }
  },
  "nbformat_minor": 4,
  "nbformat": 4,
  "cells": [
    {
      "cell_type": "code",
      "source": "import pickle\n\n# Definir una clase simple\nclass Persona:\n    def __init__(self, nombre, edad):\n        self.nombre = nombre\n        self.edad = edad\n\n    def __str__(self):\n        return f\"Persona: {self.nombre}, Edad: {self.edad}\"\n\n# Crear una instancia de la clase Persona\npersona_original = Persona(nombre=\"Juan\", edad=25)\n\n# Serializar el objeto usando pickle y guardarlo en un archivo binario\narchivo_pickle = \"persona.pkl\"\nwith open(archivo_pickle, \"wb\") as archivo:\n    pickle.dump(persona_original, archivo)\n\n# Leer el archivo binario y deserializar el objeto\nwith open(archivo_pickle, \"rb\") as archivo:\n    persona_recuperada = pickle.load(archivo)\n\n# Mostrar el objeto original y el objeto recuperado\nprint(\"Objeto Original:\", persona_original)\nprint(\"Objeto Recuperado:\", persona_recuperada)",
      "metadata": {
        "trusted": true
      },
      "execution_count": null,
      "outputs": []
    },
    {
      "cell_type": "code",
      "source": "",
      "metadata": {},
      "execution_count": null,
      "outputs": []
    }
  ]
}